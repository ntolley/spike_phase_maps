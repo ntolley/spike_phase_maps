{
 "cells": [
  {
   "cell_type": "code",
   "execution_count": null,
   "id": "3934c229-5dd6-4c36-80db-59459f11c0e2",
   "metadata": {},
   "outputs": [],
   "source": [
    "import sys\n",
    "sys.path.append('../code')\n",
    "import utils, spike_train_functions, lfp_functions\n",
    "\n",
    "import numpy as np\n",
    "import matplotlib.pyplot as plt\n",
    "import scipy\n",
    "import scipy.io as sio\n",
    "import pandas as pd\n",
    "from bycycle import BycycleGroup\n",
    "from bycycle.utils import get_extrema_df\n",
    "\n",
    "from scipy.stats import wasserstein_distance\n",
    "from sklearn.manifold import TSNE\n",
    "from sklearn.cluster import KMeans\n",
    "\n",
    "import seaborn as sns\n"
   ]
  },
  {
   "cell_type": "code",
   "execution_count": null,
   "id": "cf54e412-37a1-4271-b55e-061b9fa3c613",
   "metadata": {},
   "outputs": [],
   "source": []
  },
  {
   "cell_type": "code",
   "execution_count": null,
   "id": "b3b65d09-241c-451e-a182-50218a798b7c",
   "metadata": {},
   "outputs": [],
   "source": [
    "data_path = '../data/'\n",
    "session_dict = {\n",
    "    'SPK121107_MI_PMd_TT_NOGO_ob001': {\n",
    "        'event_file': '_ev_explicit.mat',\n",
    "        'spike_file': '_DSXII-SORTED-01_gNTSNR.mat',\n",
    "        'lfp_file': '_30x_downsample.mat',\n",
    "        'map_file': 'SPK_map_MI_PMd.mat'},\n",
    "    # 'SPK121107_PMv_TT_NOGO_ob001': {\n",
    "    #     'event_file': '_ev_explicit.mat',\n",
    "    #     'spike_file': '_DSXII-SORTED-02_gNTSNR.mat',\n",
    "    #     'lfp_file': '_30x_downsample.mat'},\n",
    "    'RUSRH120619_MI_PMd_TT_KG_TC_NOGO_Ob001': {\n",
    "        'event_file': '_ev_explicit.mat',\n",
    "        'spike_file': '_DSXI_corrected_gNTSNR_split.mat',\n",
    "        'lfp_file': '_30x_downsample.mat',\n",
    "        'map_file': 'RUS_map_MI_PMd.mat'},\n",
    "    \n",
    "}"
   ]
  },
  {
   "cell_type": "code",
   "execution_count": null,
   "id": "6e7a4070-6ff8-4116-873f-d86699ab360a",
   "metadata": {},
   "outputs": [],
   "source": [
    "def process_session(session_name, session_dict):\n",
    "    # Load spiking data and electrode map\n",
    "\n",
    "    fpath = f'../data/{session_name}'\n",
    "    # unit_fname = f'{fpath}/{session_name}_DSXI_corrected_gNTSNR_split.mat'\n",
    "    unit_fname = f'{fpath}/{session_name}_DSXII-SORTED-01_gNTSNR.mat'\n",
    "\n",
    "    event_fname = f'{fpath}/{session_name}_ev_explicit'\n",
    "    lfp_fname = f'{fpath}/{session_name}_30x_downsample.mat'\n",
    "    \n",
    "    # Load spiking data and electrode map\n",
    "    emap_dict = {'label_idx': np.stack(mapping_dict['map_struct'][0]['Num']).squeeze() - 1,\n",
    "               'row': np.stack(mapping_dict['map_struct'][0]['Row']).squeeze(),\n",
    "               'col': np.stack(mapping_dict['map_struct'][0]['Column']).squeeze(),\n",
    "               'area': np.stack(mapping_dict['map_struct'][0]['SubArrayName']).squeeze()}\n",
    "    emap_df_full = pd.DataFrame(emap_dict)\n",
    "\n",
    "    single_unit_dict = sio.loadmat(unit_fname)\n",
    "\n",
    "    sorted_timestamps = single_unit_dict['sorted_timestamps'][0]\n",
    "    unit_timestamps = [sorted_timestamps[unit_idx].squeeze() for unit_idx in range(len(sorted_timestamps))]\n",
    "    num_units = len(unit_timestamps)\n",
    "    unit_names = np.array(range(num_units))\n",
    "\n",
    "    unit_electrodes = single_unit_dict['unit_index'][0,:] - 1\n",
    "    unit_areas = [emap_df_full['area'].values[elec_idx] for elec_idx in unit_electrodes]\n",
    "    \n",
    "    samp_freq = 1000\n",
    "    nsx_dict = sio.loadmat(lfp_fname)\n",
    "    nsx_duration = nsx_dict['out'][0][0]['MetaTags'][0][0]['DataDurationSec']\n",
    "\n",
    "    lfp_data_raw = nsx_dict['out'][0][0]['Data']\n",
    "    lfp_times_raw = np.linspace(0, nsx_duration, lfp_data_raw.shape[1]).squeeze()\n"
   ]
  },
  {
   "cell_type": "code",
   "execution_count": null,
   "id": "49640d51-93e8-4d79-9031-106bd092ecb7",
   "metadata": {},
   "outputs": [],
   "source": []
  }
 ],
 "metadata": {
  "kernelspec": {
   "display_name": "sfn_2023",
   "language": "python",
   "name": "sfn_2023"
  },
  "language_info": {
   "codemirror_mode": {
    "name": "ipython",
    "version": 3
   },
   "file_extension": ".py",
   "mimetype": "text/x-python",
   "name": "python",
   "nbconvert_exporter": "python",
   "pygments_lexer": "ipython3",
   "version": "3.9.16"
  }
 },
 "nbformat": 4,
 "nbformat_minor": 5
}
